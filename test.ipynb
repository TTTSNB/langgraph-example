{
 "cells": [
  {
   "cell_type": "code",
   "execution_count": 1,
   "metadata": {},
   "outputs": [],
   "source": [
    "from langchain_core.pydantic_v1 import BaseModel, Field\n",
    "\n",
    "class InterviewTemplate(BaseModel):\n",
    "    pass\n",
    "\n",
    "class InterviewSubject(InterviewTemplate):\n",
    "    first_name: str = Field(\n",
    "        ...,\n",
    "        description=\"The first name of the interview subject\",\n",
    "        examples=[\"John\", \"Jane\", \"Alice\"],\n",
    "    )\n",
    "    last_name: str = Field(\n",
    "        ...,\n",
    "        description=\"The last name of the interview subject\",\n",
    "        examples=[\"Doe\", \"Smith\", \"Johnson\"],\n",
    "    )\n",
    "    full_name: str = Field(\n",
    "        ...,\n",
    "        description=\"The full name of the interview subject\",\n",
    "        examples=[\"John Doe\", \"Jane Smith\", \"Alice Johnson\"],\n",
    "    )\n",
    "    supervisor_first_name: str = Field(\n",
    "        ...,\n",
    "        description=\"The first name of the supervisor\",\n",
    "        examples=[\"John\", \"Jane\", \"Alice\"],\n",
    "    )\n",
    "    supervisor_last_name: str = Field(\n",
    "        ...,\n",
    "        description=\"The last name of the supervisor\",\n",
    "        examples=[\"Doe\", \"Smith\", \"Johnson\"],\n",
    "    )\n",
    "    supervisor_full_name: str = Field(\n",
    "        ...,\n",
    "        description=\"The full name of the supervisor\",\n",
    "        examples=[\"John Doe\", \"Jane Smith\", \"Alice Johnson\"],\n",
    "    )\n",
    "    last_day_of_work: str = Field(\n",
    "        ...,\n",
    "        description=\"The last day of work for the interview subject\",\n",
    "    )\n",
    "    department: str = Field(\n",
    "        ...,\n",
    "        description=\"The department the interview subject worked in\",\n",
    "    )\n",
    "    role: str = Field(\n",
    "        ...,\n",
    "        description=\"The role of the interview subject\",\n",
    "    )"
   ]
  },
  {
   "cell_type": "code",
   "execution_count": 2,
   "metadata": {},
   "outputs": [],
   "source": [
    "from langchain_ollama import ChatOllama\n",
    "\n",
    "model = llm = ChatOllama(\n",
    "    model=\"llama3.1\",\n",
    "    temperature=0,\n",
    ")\n",
    "structured_llm = model.with_structured_output(InterviewSubject)"
   ]
  },
  {
   "cell_type": "code",
   "execution_count": 3,
   "metadata": {},
   "outputs": [],
   "source": [
    "user_input = \"\"\"\n",
    "    Hi, I'm Paul.\n",
    "    My last day of work is 2022-12-31.\n",
    "    I worked in the IT department as a software engineer.\n",
    "    My supervisor is John Doe.\n",
    "    \"\"\""
   ]
  },
  {
   "cell_type": "code",
   "execution_count": 4,
   "metadata": {},
   "outputs": [
    {
     "name": "stdout",
     "output_type": "stream",
     "text": [
      "{\n",
      "    \"first_name\": \"Paul\",\n",
      "    \"last_name\": \"\",\n",
      "    \"full_name\": \"Paul\",\n",
      "    \"supervisor_first_name\": \"John\",\n",
      "    \"supervisor_last_name\": \"Doe\",\n",
      "    \"supervisor_full_name\": \"John Doe\",\n",
      "    \"last_day_of_work\": \"2022-12-31\",\n",
      "    \"department\": \"IT\",\n",
      "    \"role\": \"software engineer\"\n",
      "}\n"
     ]
    }
   ],
   "source": [
    "import json\n",
    "\n",
    "subject_information = structured_llm.invoke(user_input)\n",
    "print(json.dumps(subject_information.dict(), indent=4))"
   ]
  },
  {
   "cell_type": "code",
   "execution_count": 5,
   "metadata": {},
   "outputs": [
    {
     "name": "stdout",
     "output_type": "stream",
     "text": [
      "Field 'last_name' is empty.\n",
      "['last_name']\n"
     ]
    }
   ],
   "source": [
    "def check_what_is_empty(details):\n",
    "    ask_for = []\n",
    "    # Check if fields are empty\n",
    "    for field, value in details.dict().items():\n",
    "        if value in [None, \"\", 0]:  # You can add other 'empty' conditions as per your requirements\n",
    "            print(f\"Field '{field}' is empty.\")\n",
    "            ask_for.append(f'{field}')\n",
    "    return ask_for\n",
    "\n",
    "ask_for = check_what_is_empty(details=subject_information)\n",
    "print(ask_for)"
   ]
  },
  {
   "cell_type": "code",
   "execution_count": 6,
   "metadata": {},
   "outputs": [],
   "source": [
    "user_response = \"\"\"\n",
    "Sorry about that, Kingston is the name. Paul Kingston.\n",
    "\"\"\""
   ]
  },
  {
   "cell_type": "code",
   "execution_count": 7,
   "metadata": {},
   "outputs": [
    {
     "name": "stdout",
     "output_type": "stream",
     "text": [
      "{\n",
      "    \"first_name\": \"Paul\",\n",
      "    \"last_name\": \"Kingston\",\n",
      "    \"full_name\": \"Paul Kingston\",\n",
      "    \"supervisor_first_name\": \"\",\n",
      "    \"supervisor_last_name\": \"\",\n",
      "    \"supervisor_full_name\": \"\",\n",
      "    \"last_day_of_work\": \"\",\n",
      "    \"department\": \"\",\n",
      "    \"role\": \"\"\n",
      "}\n"
     ]
    }
   ],
   "source": [
    "structured_llm = model.with_structured_output(InterviewSubject)\n",
    "new_information = structured_llm.invoke(user_response)\n",
    "print(json.dumps(new_information.dict(), indent=4))"
   ]
  },
  {
   "cell_type": "code",
   "execution_count": 8,
   "metadata": {},
   "outputs": [
    {
     "name": "stdout",
     "output_type": "stream",
     "text": [
      "{\n",
      "    \"first_name\": \"Paul\",\n",
      "    \"last_name\": \"Kingston\",\n",
      "    \"full_name\": \"Paul Kingston\",\n",
      "    \"supervisor_first_name\": \"John\",\n",
      "    \"supervisor_last_name\": \"Doe\",\n",
      "    \"supervisor_full_name\": \"John Doe\",\n",
      "    \"last_day_of_work\": \"2022-12-31\",\n",
      "    \"department\": \"IT\",\n",
      "    \"role\": \"software engineer\"\n",
      "}\n"
     ]
    }
   ],
   "source": [
    "## checking the response and adding it\n",
    "def add_non_empty_details(current_details: InterviewSubject, new_details: InterviewSubject):\n",
    "    non_empty_details = {k: v for k, v in new_details.dict().items() if v not in [None, \"\"]}\n",
    "    updated_details = current_details.copy(update=non_empty_details)\n",
    "    return updated_details\n",
    "\n",
    "current_details = add_non_empty_details(current_details=subject_information, new_details=new_information)\n",
    "print(json.dumps(current_details.dict(), indent=4))\n"
   ]
  },
  {
   "cell_type": "code",
   "execution_count": 10,
   "metadata": {},
   "outputs": [
    {
     "name": "stdout",
     "output_type": "stream",
     "text": [
      "All fields are filled.\n"
     ]
    }
   ],
   "source": [
    "ask_for = check_what_is_empty(details=current_details)\n",
    "if not ask_for:\n",
    "    print(\"All fields are filled.\")"
   ]
  },
  {
   "cell_type": "code",
   "execution_count": 11,
   "metadata": {},
   "outputs": [],
   "source": [
    "def check_what_is_empty(current_details: InterviewTemplate):\n",
    "    ask_for = []\n",
    "    for field, value in current_details.dict().items():\n",
    "        if value in [None, \"\", 0]:\n",
    "            print(f\"Field '{field}' is empty.\")\n",
    "            ask_for.append(f'{field}')\n",
    "    return ask_for\n",
    "\n",
    "\n",
    "def add_non_empty_details(current_details: InterviewTemplate, new_details: InterviewTemplate):\n",
    "    non_empty_details = {k: v for k, v in new_details.dict().items() if v not in [None, \"\"]}\n",
    "    updated_details = current_details.copy(update=non_empty_details)\n",
    "    return updated_details\n",
    "\n",
    "\n",
    "def filter_response(text_input: str, user_details: InterviewTemplate = None):\n",
    "    chain = model.with_structured_output(InterviewTemplate)\n",
    "    result = chain.run(text_input)\n",
    "    user_details = add_non_empty_details(\n",
    "        current_details=user_details,\n",
    "        new_details=result\n",
    "    )\n",
    "    ask_for = check_what_is_empty(current_details=user_details)\n",
    "    return user_details, ask_for"
   ]
  }
 ],
 "metadata": {
  "kernelspec": {
   "display_name": "interviewer_env",
   "language": "python",
   "name": "python3"
  },
  "language_info": {
   "codemirror_mode": {
    "name": "ipython",
    "version": 3
   },
   "file_extension": ".py",
   "mimetype": "text/x-python",
   "name": "python",
   "nbconvert_exporter": "python",
   "pygments_lexer": "ipython3",
   "version": "3.11.9"
  }
 },
 "nbformat": 4,
 "nbformat_minor": 2
}
